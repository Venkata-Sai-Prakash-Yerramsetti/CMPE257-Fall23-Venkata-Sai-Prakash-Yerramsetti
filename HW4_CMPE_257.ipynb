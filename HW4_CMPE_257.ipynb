{
  "nbformat": 4,
  "nbformat_minor": 0,
  "metadata": {
    "colab": {
      "provenance": [],
      "include_colab_link": true
    },
    "kernelspec": {
      "name": "python3",
      "display_name": "Python 3"
    },
    "language_info": {
      "name": "python"
    }
  },
  "cells": [
    {
      "cell_type": "markdown",
      "metadata": {
        "id": "view-in-github",
        "colab_type": "text"
      },
      "source": [
        "<a href=\"https://colab.research.google.com/github/Venkata-Sai-Prakash-Yerramsetti/CMPE257-Fall23-Venkata-Sai-Prakash-Yerramsetti/blob/homework-4/HW4_CMPE_257.ipynb\" target=\"_parent\"><img src=\"https://colab.research.google.com/assets/colab-badge.svg\" alt=\"Open In Colab\"/></a>"
      ]
    },
    {
      "cell_type": "code",
      "source": [
        "import pandas as pd\n",
        "import numpy as np\n",
        "import matplotlib.pyplot as plt\n",
        "from sklearn.metrics import accuracy_score\n",
        "import warnings\n",
        "from sklearn.svm import SVC\n",
        "from sklearn.model_selection import cross_val_score\n",
        "from sklearn.model_selection import train_test_split\n",
        "warnings.simplefilter(\"ignore\")"
      ],
      "metadata": {
        "id": "BcQbUThxj50q"
      },
      "execution_count": 306,
      "outputs": []
    },
    {
      "cell_type": "code",
      "source": [
        "from google.colab import drive\n",
        "drive.mount('/content/drive')\n"
      ],
      "metadata": {
        "colab": {
          "base_uri": "https://localhost:8080/"
        },
        "id": "Kyu8peWdxfCv",
        "outputId": "392af090-1d30-4bc1-ac09-33af166f1361"
      },
      "execution_count": 307,
      "outputs": [
        {
          "output_type": "stream",
          "name": "stdout",
          "text": [
            "Drive already mounted at /content/drive; to attempt to forcibly remount, call drive.mount(\"/content/drive\", force_remount=True).\n"
          ]
        }
      ]
    },
    {
      "cell_type": "code",
      "execution_count": 308,
      "metadata": {
        "id": "B6EiXI2FUIf3"
      },
      "outputs": [],
      "source": [
        "def proper_df(input_data):\n",
        "  data = []\n",
        "  N, M = input_data.shape\n",
        "  for i in range(N):\n",
        "    string = input_data.iloc[i]\n",
        "    list_at_itrable_value = [float(x) for x in string[0].split()]\n",
        "    data.append(list_at_itrable_value)\n",
        "  df = pd.DataFrame(data, columns = get_lables())\n",
        "  return df\n",
        "\n",
        "\n",
        "def get_lables():\n",
        "  column_names = ['label']\n",
        "  column_names.extend([str(x) for x in range(256)])\n",
        "  return column_names\n",
        "\n",
        "\n",
        "def calculate_intensity(df):\n",
        "    pixel_values = df.iloc[:, 1:].values\n",
        "\n",
        "    mean_absolute_intensity = np.mean(np.abs(pixel_values), axis=1)\n",
        "\n",
        "    # df['Mean_Absolute_Intensity'] = mean_absolute_intensity\n",
        "\n",
        "    # intensity_column = df.iloc[:, 1:].mean(axis=1)\n",
        "    df['x1'] = mean_absolute_intensity\n",
        "    return df\n",
        "\n",
        "def calculate_symmetry(df):\n",
        "    pixel_values = df.iloc[:, 1:].values\n",
        "    n = pixel_values.shape[1]\n",
        "    cms_symmetry = np.sum(np.abs(pixel_values - np.flip(pixel_values, axis=1)), axis=1) / n\n",
        "    df['x2'] = cms_symmetry\n",
        "    return df\n",
        "\n",
        "def get_preprocessed_digits_dataframe(file_path):\n",
        "  digit_train_data = pd.read_csv(file_path)\n",
        "  digit_train_df = proper_df(digit_train_data)\n",
        "  digit_train_df['label'] = digit_train_df['label'].apply(lambda x: -1.0 if x != 1.0 else x)\n",
        "  return digit_train_df\n",
        "\n",
        "def processor(file_path):\n",
        "  binary_filtered_digit_train_df = get_preprocessed_digits_dataframe(file_path)\n",
        "  binary_filtered_digit_train_df = binary_filtered_digit_train_df.rename(columns={'label': 'y'})\n",
        "  binary_filtered_digit_train_df = calculate_intensity(binary_filtered_digit_train_df)\n",
        "  binary_filtered_digit_train_df = calculate_symmetry(binary_filtered_digit_train_df)\n",
        "  train_df = binary_filtered_digit_train_df[['x1', 'x2', 'y']]\n",
        "  positive_train_df = train_df[train_df['y'] == 1.0]\n",
        "  negative_train_df = train_df[train_df['y'] == -1.0]\n",
        "  return train_df\n"
      ]
    },
    {
      "cell_type": "markdown",
      "source": [
        "# Homework-4\n",
        "\n",
        "Note:\n",
        "-  SVM's linear and rbf kernel doesn't accept degree parameter\n",
        "-  SVM's poly kernal accepts the degree parameter and its default value is 3. Hence, there is no need to pass this information third degree polynomial explicitely to SVM."
      ],
      "metadata": {
        "id": "rm-PSsgHmRJ3"
      }
    },
    {
      "cell_type": "code",
      "source": [
        "class saradha:\n",
        "  def __init__(self):\n",
        "    self.kernels = ['linear', 'poly', 'rbf']\n",
        "    self.C = [0.01, 0.1, 1, 10, 100, 1000]\n",
        "    self.cv_size = 5\n",
        "\n",
        "  def __init__(self, train_df=None, test_df=None):\n",
        "    self.kernels = ['linear', 'poly', 'rbf']\n",
        "    self.C = [0.01, 0.1, 1, 10, 100, 1000]\n",
        "    self.cv_size = 5\n",
        "\n",
        "    if train_df is not None:\n",
        "      self.X_train = train_df[['x1', 'x2']]\n",
        "      self.Y_train = train_df[['y']]\n",
        "\n",
        "    if test_df is not None:\n",
        "      self.X_test = test_df[['x1', 'x2']]\n",
        "      self.Y_test = test_df[['y']]\n",
        "\n",
        "train_df = processor('/content/drive/MyDrive/datasets/ZipDigits.train')\n",
        "test_df = processor('/content/drive/MyDrive/datasets/ZipDigits.test')\n",
        "assignment_chedham = saradha(train_df, test_df)"
      ],
      "metadata": {
        "id": "e30qKyhJmVWF"
      },
      "execution_count": 309,
      "outputs": []
    },
    {
      "cell_type": "markdown",
      "source": [
        "## Task-1"
      ],
      "metadata": {
        "id": "FjcEzw7xlkW4"
      }
    },
    {
      "cell_type": "code",
      "source": [
        "class first_one(saradha):\n",
        "  def __init__(self, df):\n",
        "    super().__init__()\n",
        "    self.df = df\n",
        "    self.X = df[['x1', 'x2']]\n",
        "    self.Y = df[['y']]\n",
        "    self.error = []\n",
        "\n",
        "  def first_low_pass(self, C=1):\n",
        "    for index, kernel in enumerate(self.kernels):\n",
        "      errors_from_the_kernel = []\n",
        "      for C in self.C:\n",
        "        support_vector = SVC(kernel=kernel, C=C)\n",
        "        X_train = self.df[['x1', 'x2']]\n",
        "        y_train = self.df[['y']]\n",
        "        support_vector.fit(X_train, y_train)\n",
        "        preicted_y = support_vector.predict(X_train)\n",
        "        error_from_training = 1 - accuracy_score(y_train, preicted_y)\n",
        "        errors_from_the_kernel.append(error_from_training)\n",
        "\n",
        "      self.error.append(errors_from_the_kernel)\n",
        "    c_1_index = self.C.index(1)\n",
        "    for index, kernel in enumerate(self.kernels):\n",
        "      print(f\"Training error {kernel} kernel and C={1}: {self.error[index][c_1_index]:.4f}\")\n",
        "\n",
        "\n",
        "complete_first_task = first_one(train_df)"
      ],
      "metadata": {
        "id": "0ZxVIJfVkGdL"
      },
      "execution_count": 310,
      "outputs": []
    },
    {
      "cell_type": "markdown",
      "source": [
        "### LP-1"
      ],
      "metadata": {
        "id": "Jc6ZMO-4ln7u"
      }
    },
    {
      "cell_type": "code",
      "source": [
        "complete_first_task.first_low_pass()"
      ],
      "metadata": {
        "colab": {
          "base_uri": "https://localhost:8080/"
        },
        "id": "ah_6Yj0cnMAe",
        "outputId": "c82ad1e6-85a2-4202-fc7e-5c4c322a8ff5"
      },
      "execution_count": 311,
      "outputs": [
        {
          "output_type": "stream",
          "name": "stdout",
          "text": [
            "Training error linear kernel and C=1: 0.0240\n",
            "Training error poly kernel and C=1: 0.0121\n",
            "Training error rbf kernel and C=1: 0.0137\n"
          ]
        }
      ]
    },
    {
      "cell_type": "code",
      "source": [
        "complete_first_task.error"
      ],
      "metadata": {
        "colab": {
          "base_uri": "https://localhost:8080/"
        },
        "id": "XOYqclFcCEov",
        "outputId": "bd4f9564-fbbd-40f0-c6ab-02c91457eb19"
      },
      "execution_count": 312,
      "outputs": [
        {
          "output_type": "execute_result",
          "data": {
            "text/plain": [
              "[[0.13786008230452673,\n",
              "  0.03827160493827164,\n",
              "  0.02400548696844995,\n",
              "  0.013854595336076803,\n",
              "  0.012071330589849105,\n",
              "  0.011522633744855959],\n",
              " [0.01275720164609051,\n",
              "  0.012071330589849105,\n",
              "  0.012071330589849105,\n",
              "  0.012345679012345734,\n",
              "  0.012208504801097364,\n",
              "  0.012208504801097364],\n",
              " [0.03566529492455417,\n",
              "  0.020850480109739333,\n",
              "  0.013717421124828544,\n",
              "  0.011659807956104218,\n",
              "  0.0113854595336077,\n",
              "  0.011659807956104218]]"
            ]
          },
          "metadata": {},
          "execution_count": 312
        }
      ]
    },
    {
      "cell_type": "markdown",
      "source": [
        "HP-1\n",
        "\n",
        "What is the best kernel for this dataset only based on the results above? Is this an appropriate way to select a model? Why or why not? Be brief in your answer </font>\n",
        "\n",
        "According to the results, the polynomial (poly) kernel appears to outperform the other kernels evaluated for categorizing '1' versus other digits in the digits dataset. Among the three kernels examined, it had the best accuracy of 98.50% and the lowest training error of 1.50%.\n",
        "\n",
        "Choosing the ideal kernel merely based on the highest accuracy or lowest training error from these results is not necessarily the best method.\n",
        "\n",
        "As a result of the following reasons:\n",
        "\n",
        "Overfitting occurs when high accuracies or low training errors on the training set do not generalize well enough to unseen data (test set or real-world data). As previously indicated, an overfitting model may perform poorly on new, previously unknown samples.\n",
        "\n",
        "dataset Sensitivity: The model's performance can vary greatly depending on the features and qualities of the dataset. While the poly kernal was almost perfectly predicted in this situation, we cannot guarantee that it would be the same on unseen data.\n",
        "\n",
        "Tuning Hyperparameters: The performance of SVMs, particularly with different kernels, can be substantially influenced by hyperparameters such as C, degree (for the polynomial kernel), or gamma (for the RBF kernel). The default options may not be optimum for all datasets.\n",
        "\n",
        "Cross-Validation: Cross-validation techniques (k-fold cross-validation) should be employed to obtain a more realistic and clear assessment of model performance and kernel suitability.\n",
        "\n",
        "\n",
        "\n",
        "\n",
        "\n",
        "\n"
      ],
      "metadata": {
        "id": "b6vdqIgMsaI2"
      }
    },
    {
      "cell_type": "markdown",
      "source": [
        "#Task-2"
      ],
      "metadata": {
        "id": "CLR8VDyfCbSH"
      }
    },
    {
      "cell_type": "code",
      "source": [
        "class second_task(saradha):\n",
        "  def __init__(self, df):\n",
        "    super().__init__()\n",
        "    self.df = df\n",
        "    self.X = df[['x1', 'x2']]\n",
        "    self.Y = df[['y']]\n",
        "    self.error = []\n",
        "\n",
        "  def first_low_pass(self):\n",
        "    X_train, X_val, y_train, y_val = train_test_split(self.X, self.Y, test_size=0.2, random_state=42)\n",
        "    for kernel in self.kernels:\n",
        "      errors_from_the_kernel = []\n",
        "      for C in self.C:\n",
        "          support_vector = SVC(kernel=kernel, C=C)\n",
        "          # Performing k-fold cross-validation (with k=5)\n",
        "          lekkalu = cross_val_score(support_vector, X_train, y_train, cv=self.cv_size)\n",
        "\n",
        "          cross_val_error = 1 - np.mean(lekkalu)\n",
        "          print(f\"Cross-validation error  {kernel} kernel and C={C}: {cross_val_error:.4f}\")\n",
        "          errors_from_the_kernel.append(cross_val_error)\n",
        "      self.error.append(errors_from_the_kernel)\n",
        "\n",
        "\n",
        "complete_second_task = second_task(train_df)"
      ],
      "metadata": {
        "id": "F6aa7jVPstXb"
      },
      "execution_count": 313,
      "outputs": []
    },
    {
      "cell_type": "markdown",
      "source": [
        "##LP-1"
      ],
      "metadata": {
        "id": "LGmnpZPKChaW"
      }
    },
    {
      "cell_type": "code",
      "source": [
        "complete_second_task.first_low_pass()"
      ],
      "metadata": {
        "colab": {
          "base_uri": "https://localhost:8080/"
        },
        "id": "vvn1zSmwEKK6",
        "outputId": "988dcd13-f9e0-498c-bf64-94093f81894e"
      },
      "execution_count": 314,
      "outputs": [
        {
          "output_type": "stream",
          "name": "stdout",
          "text": [
            "Cross-validation error  linear kernel and C=0.01: 0.1370\n",
            "Cross-validation error  linear kernel and C=0.1: 0.0420\n",
            "Cross-validation error  linear kernel and C=1: 0.0283\n",
            "Cross-validation error  linear kernel and C=10: 0.0156\n",
            "Cross-validation error  linear kernel and C=100: 0.0132\n",
            "Cross-validation error  linear kernel and C=1000: 0.0120\n",
            "Cross-validation error  poly kernel and C=0.01: 0.0134\n",
            "Cross-validation error  poly kernel and C=0.1: 0.0122\n",
            "Cross-validation error  poly kernel and C=1: 0.0127\n",
            "Cross-validation error  poly kernel and C=10: 0.0127\n",
            "Cross-validation error  poly kernel and C=100: 0.0125\n",
            "Cross-validation error  poly kernel and C=1000: 0.0125\n",
            "Cross-validation error  rbf kernel and C=0.01: 0.0381\n",
            "Cross-validation error  rbf kernel and C=0.1: 0.0245\n",
            "Cross-validation error  rbf kernel and C=1: 0.0151\n",
            "Cross-validation error  rbf kernel and C=10: 0.0129\n",
            "Cross-validation error  rbf kernel and C=100: 0.0130\n",
            "Cross-validation error  rbf kernel and C=1000: 0.0129\n"
          ]
        }
      ]
    },
    {
      "cell_type": "code",
      "source": [
        "complete_second_task.error"
      ],
      "metadata": {
        "colab": {
          "base_uri": "https://localhost:8080/"
        },
        "id": "ZFsBVFYeSp2P",
        "outputId": "7ceea25b-da51-4bfa-dbe1-81319ef9d090"
      },
      "execution_count": 315,
      "outputs": [
        {
          "output_type": "execute_result",
          "data": {
            "text/plain": [
              "[[0.1370027088560336,\n",
              "  0.04201005054669493,\n",
              "  0.02829086323290153,\n",
              "  0.01560274618915547,\n",
              "  0.013202255861226697,\n",
              "  0.012002304658850216],\n",
              " [0.013373929428641573,\n",
              "  0.01217368426467702,\n",
              "  0.01268826402453982,\n",
              "  0.012688117043745839,\n",
              "  0.012516737437918812,\n",
              "  0.012516737437919034],\n",
              " [0.03806493905441377,\n",
              "  0.024518454173593107,\n",
              "  0.015088460390880742,\n",
              "  0.012859496649572755,\n",
              "  0.013030435313017619,\n",
              "  0.012859202687984905]]"
            ]
          },
          "metadata": {},
          "execution_count": 315
        }
      ]
    },
    {
      "cell_type": "markdown",
      "source": [
        "## LP-2"
      ],
      "metadata": {
        "id": "hJ6R3QYjKwOP"
      }
    },
    {
      "cell_type": "code",
      "source": [
        "block_size = 0.25\n",
        "index = range(len(assignment_chedham.C))\n",
        "\n",
        "plt.figure(figsize=(10, 6))\n",
        "print(complete_second_task.error)\n",
        "plt.bar(index, complete_second_task.error[0], width=block_size, label='Linear')\n",
        "plt.bar([i + block_size for i in index], complete_second_task.error[1], width=block_size, label='Poly')\n",
        "plt.bar([i + 2 * block_size for i in index], complete_second_task.error[2], width=block_size, label='RBF')\n",
        "\n",
        "plt.xlabel('C values')\n",
        "plt.ylabel('Error rate')\n",
        "plt.title('Error Rates of various Kernels with various C Values')\n",
        "plt.xticks([i + block_size for i in index], assignment_chedham.C)\n",
        "plt.legend()\n",
        "\n",
        "plt.tight_layout()\n",
        "plt.show()"
      ],
      "metadata": {
        "colab": {
          "base_uri": "https://localhost:8080/",
          "height": 644
        },
        "id": "kEw7Rmv4K0eV",
        "outputId": "61b2d05f-d782-4604-fe90-c327338e269e"
      },
      "execution_count": 316,
      "outputs": [
        {
          "output_type": "stream",
          "name": "stdout",
          "text": [
            "[[0.1370027088560336, 0.04201005054669493, 0.02829086323290153, 0.01560274618915547, 0.013202255861226697, 0.012002304658850216], [0.013373929428641573, 0.01217368426467702, 0.01268826402453982, 0.012688117043745839, 0.012516737437918812, 0.012516737437919034], [0.03806493905441377, 0.024518454173593107, 0.015088460390880742, 0.012859496649572755, 0.013030435313017619, 0.012859202687984905]]\n"
          ]
        },
        {
          "output_type": "display_data",
          "data": {
            "text/plain": [
              "<Figure size 1000x600 with 1 Axes>"
            ],
            "image/png": "[encoded data removed]"
          },
          "metadata": {}
        }
      ]
    },
    {
      "cell_type": "code",
      "source": [
        "1-0.012859496649572755"
      ],
      "metadata": {
        "colab": {
          "base_uri": "https://localhost:8080/"
        },
        "id": "p4UcQUI9S19B",
        "outputId": "53d69a60-498d-45c7-87b8-7f28cf4f7fd7"
      },
      "execution_count": 317,
      "outputs": [
        {
          "output_type": "execute_result",
          "data": {
            "text/plain": [
              "0.9871405033504272"
            ]
          },
          "metadata": {},
          "execution_count": 317
        }
      ]
    },
    {
      "cell_type": "markdown",
      "source": [
        "Observations:\n",
        "\n",
        "Even if the third order polynomial performs the best, its performance does not alter as I change the regularization parameter C. The SVM classifier with the third order polynomial appears to be independent of the regulation parameter.\n",
        "\n",
        "\n",
        "As the magnitude of the regularization parameter grows, the SVM classifiers with rbf and linear kernels improve.\n",
        "\n",
        "\n",
        "\n",
        "So, for an SVM classifier, I'd pick a kernel whose predictions can be changed and improved by adjusting the regularization value.\n",
        "\n",
        "\n",
        "\n",
        "In this scenario, I'd go with rbf kernal.\n",
        "\n",
        "\n",
        "\n",
        "And while selecting a regularization parameter, we must select a value that balances the accuracy and overfitting characteristics.\n",
        "\n",
        "\n",
        "\n",
        "As a result, I'd go with 10 as the C.\n",
        "\n",
        "\n",
        "\n",
        "For the svm classfier with rbf kernl with C=10 I'm getting accuracy 1-0.012859496649572755 = 0.9871405033504272\n",
        "\n",
        "\n"
      ],
      "metadata": {
        "id": "JpVuT5loNONR"
      }
    },
    {
      "cell_type": "markdown",
      "source": [
        "I choose svm classfier with rbf kernl with C=10 for which I'm getting accuracy 1-0.012859496649572755 = 0.9871405033504272\n"
      ],
      "metadata": {
        "id": "dAs4Zzi7TBMl"
      }
    },
    {
      "cell_type": "markdown",
      "source": [
        "## HP"
      ],
      "metadata": {
        "id": "oqGNpwcyTTA1"
      }
    },
    {
      "cell_type": "code",
      "source": [
        "[row[4] for row in complete_second_task.error]"
      ],
      "metadata": {
        "colab": {
          "base_uri": "https://localhost:8080/"
        },
        "id": "yxFSd2v-gx8q",
        "outputId": "b960d5d3-f651-42e6-c136-8ecb30e7a00b"
      },
      "execution_count": 318,
      "outputs": [
        {
          "output_type": "execute_result",
          "data": {
            "text/plain": [
              "[0.013202255861226697, 0.012516737437918812, 0.013030435313017619]"
            ]
          },
          "metadata": {},
          "execution_count": 318
        }
      ]
    },
    {
      "cell_type": "code",
      "source": [
        "block_size = 0.25\n",
        "reg_index = 4\n",
        "index = range(len(assignment_chedham.kernels)*len(assignment_chedham.C))\n",
        "x_ticks = []\n",
        "in_sample_error = []\n",
        "cv_error = []\n",
        "\n",
        "for k_ind, kernel in enumerate(assignment_chedham.kernels):\n",
        "  for c_ind, c in enumerate(assignment_chedham.C):\n",
        "    x_ticks.append(f\"{kernel}_{c}\")\n",
        "    in_sample_error.append(complete_first_task.error[k_ind][c_ind])\n",
        "    cv_error.append(complete_second_task.error[k_ind][c_ind])\n",
        "\n",
        "plt.figure(figsize=(16, 6))\n",
        "plt.bar(index, in_sample_error, width=block_size, label='In_sample_error(complete_first_task-Errors)')\n",
        "plt.bar([i + block_size for i in index], cv_error, width=block_size, label='Cross_validation_error(complete_second_task-Errors)')\n",
        "\n",
        "plt.xlabel('different Kernels with different C Combinations')\n",
        "plt.ylabel('frequency of the error')\n",
        "plt.title('In-Sample Error Rates vs CV ErrorRates over different Kernels and C Values')\n",
        "plt.xticks([i + block_size for i in index], x_ticks)\n",
        "plt.legend()\n",
        "\n",
        "plt.tight_layout()\n",
        "plt.show()"
      ],
      "metadata": {
        "colab": {
          "base_uri": "https://localhost:8080/",
          "height": 430
        },
        "id": "PYDBY209TSfp",
        "outputId": "93476fea-c3f6-4537-f070-f49123033429"
      },
      "execution_count": 319,
      "outputs": [
        {
          "output_type": "display_data",
          "data": {
            "text/plain": [
              "<Figure size 1600x600 with 1 Axes>"
            ],
            "image/png": "[encoded data removed]"
          },
          "metadata": {}
        }
      ]
    },
    {
      "cell_type": "markdown",
      "source": [
        "Observations:\n",
        "\n",
        "- As the normalization parameter is increased, the cv and e_in error decrease.\n",
        "\n",
        "\n",
        "\n",
        "- In almost every case, the in-sample error is less than the cv_error error.\n",
        "\n",
        "\n",
        "\n",
        "- I believe this is an indication of overfitting because we are receiving extremely little errors, which may not be the case when we feed unknown data to the model.\n",
        "\n",
        "\n",
        "\n",
        "- Furthermore, there is no significant difference in error with any parameter C when using svm with poly kernel.\n",
        "\n"
      ],
      "metadata": {
        "id": "ZC2MNb-X25Ti"
      }
    },
    {
      "cell_type": "markdown",
      "source": [
        "# Task-3"
      ],
      "metadata": {
        "id": "bwg8BjbiVJGq"
      }
    },
    {
      "cell_type": "markdown",
      "source": [
        "## LP-1\n",
        "\n",
        "Final SVM:\n",
        "  - Kernal : rbf\n",
        "  - C : 10"
      ],
      "metadata": {
        "id": "EPHgtNXz6EQK"
      }
    },
    {
      "cell_type": "code",
      "source": [
        "support_vector = SVC(kernel='rbf', C=10)\n",
        "support_vector.fit(assignment_chedham.X_train, assignment_chedham.Y_train)\n",
        "\n",
        "preicted_y = support_vector.predict(assignment_chedham.X_train)\n",
        "\n",
        "error_from_training = 1 - accuracy_score(assignment_chedham.Y_train, preicted_y)\n",
        "\n",
        "print(f\"In-sample error for the SVM rbf kernel and C=10 percentage is {error_from_training*100:.2f}\")"
      ],
      "metadata": {
        "colab": {
          "base_uri": "https://localhost:8080/"
        },
        "id": "YvFEg4R7MLBA",
        "outputId": "136b82b2-7a39-4804-f201-655cacaba556"
      },
      "execution_count": 320,
      "outputs": [
        {
          "output_type": "stream",
          "name": "stdout",
          "text": [
            "In-sample error for the SVM rbf kernel and C=10 percentage is 1.17\n"
          ]
        }
      ]
    },
    {
      "cell_type": "markdown",
      "source": [
        "## LP-2\n",
        "\n",
        "####Questions?\n",
        "\n",
        "What does this mean \"Note that you do not need to filter this dataset, similar to the training set in this homework.\"\n",
        "\n",
        "I think below are the things that we need to do on training dataset,\n",
        "\n",
        "1. Since, the rows in dataset are space separated integers, we need to preprocess and make it right.\n",
        "2. Like we filtered digits 1 and 5 in past assignments, we should not filter for any digits.\n",
        "3. Instead make all non-1's to -1's in y lable.\n",
        "\n",
        "Which of the above we should not apply for the test dataset?\n",
        "\n",
        "Correct me if I understood something wrong.\n",
        "\n",
        "#### Answer:\n",
        "\n",
        "Understood, we are doing same pre-processing on test data like we did for the test data.\n",
        "\n"
      ],
      "metadata": {
        "id": "esICVLjI8XsJ"
      }
    },
    {
      "cell_type": "code",
      "source": [
        "preicted_y = support_vector.predict(assignment_chedham.X_test)\n",
        "\n",
        "test_error = 1 - accuracy_score(assignment_chedham.Y_test, preicted_y)\n",
        "\n",
        "print(f\"Final error for the SVM model with rbf kernel and C=10 {test_error*100:.2f}\")"
      ],
      "metadata": {
        "colab": {
          "base_uri": "https://localhost:8080/"
        },
        "id": "p95Knp7I-4qB",
        "outputId": "60b3513d-c8b8-4167-8929-650dcb966a6e"
      },
      "execution_count": 321,
      "outputs": [
        {
          "output_type": "stream",
          "name": "stdout",
          "text": [
            "Final error for the SVM model with rbf kernel and C=10 1.60\n"
          ]
        }
      ]
    },
    {
      "cell_type": "markdown",
      "source": [
        "# Task-4"
      ],
      "metadata": {
        "id": "qDB8Eg8yTi84"
      }
    },
    {
      "cell_type": "markdown",
      "source": [
        "## HP-1"
      ],
      "metadata": {
        "id": "mFEwPw1YUIEs"
      }
    },
    {
      "cell_type": "code",
      "source": [
        "models = [\"PLA\", \"pocket\", \"O(x^3) pocket\", \"NN-SGD\", \"NN-MBGD\", \"NN-BGD\"]\n",
        "accuracy = [63.42, 66.94, 95.32, 96.69, 98.71, 99.06]\n",
        "errors_on_the_test_data = [100-x for x in accuracy]\n",
        "errors_on_the_test_data"
      ],
      "metadata": {
        "colab": {
          "base_uri": "https://localhost:8080/"
        },
        "id": "z4XP5IXmUPjR",
        "outputId": "932a6529-98b9-45d2-db6a-6515179f2c0b"
      },
      "execution_count": 322,
      "outputs": [
        {
          "output_type": "execute_result",
          "data": {
            "text/plain": [
              "[36.58,\n",
              " 33.06,\n",
              " 4.680000000000007,\n",
              " 3.3100000000000023,\n",
              " 1.2900000000000063,\n",
              " 0.9399999999999977]"
            ]
          },
          "metadata": {},
          "execution_count": 322
        }
      ]
    },
    {
      "cell_type": "code",
      "source": [
        "plt.figure(figsize=(10, 6))\n",
        "plt.bar(models, errors_on_the_test_data, color='green')\n",
        "plt.xlabel('Models')\n",
        "plt.ylabel('Test Errors (%)')\n",
        "plt.title('Test Errors for Models')\n",
        "plt.ylim(0, 100)\n",
        "plt.xticks(rotation=45, ha='right')\n",
        "plt.show()"
      ],
      "metadata": {
        "colab": {
          "base_uri": "https://localhost:8080/",
          "height": 632
        },
        "id": "G103JzJLerx8",
        "outputId": "f096193b-22a6-4b8f-b9cd-839a7c7f32af"
      },
      "execution_count": 323,
      "outputs": [
        {
          "output_type": "display_data",
          "data": {
            "text/plain": [
              "<Figure size 1000x600 with 1 Axes>"
            ],
            "image/png": "[encoded data removed]"
          },
          "metadata": {}
        }
      ]
    },
    {
      "cell_type": "code",
      "source": [
        "plt.figure(figsize=(10, 6))\n",
        "plt.bar(models, accuracy, color='red')\n",
        "plt.xlabel('Models')\n",
        "plt.ylabel('Accuracy (%)')\n",
        "plt.title('Accuracy for Models')\n",
        "plt.ylim(0, 100)\n",
        "plt.xticks(rotation=45, ha='right')\n",
        "plt.show()"
      ],
      "metadata": {
        "colab": {
          "base_uri": "https://localhost:8080/",
          "height": 632
        },
        "id": "REb5wBQDf5i5",
        "outputId": "57379383-bed7-4ff1-e0f8-9aca7f605067"
      },
      "execution_count": 324,
      "outputs": [
        {
          "output_type": "display_data",
          "data": {
            "text/plain": [
              "<Figure size 1000x600 with 1 Axes>"
            ],
            "image/png": "[encoded data removed]"
          },
          "metadata": {}
        }
      ]
    },
    {
      "cell_type": "markdown",
      "source": [
        "Best Test Error: With a test error of 0.94%, the NN-BGD model has the lowest test error.\n",
        "\n",
        "Worst Test Error: At 36.58%, the PLA model has the worst test error.\n",
        "\n",
        "\n",
        "\n",
        "A variety of factors influence the performance of the models.\n",
        "\n",
        "\n",
        "\n",
        "In the example of Pocket and PLA, which are very simple models with only two features and only evaluate linear relationships, increasing the features to eight by generating a 3rd order polynomial improved the performance by 33%.\n",
        "\n",
        "\n",
        "\n",
        "When compared to the pocket and PLA algorithms, the polynomial feature transformation (O(x3) pocket) may have improved the model's ability to capture nonlinear relationships in the data.\n",
        "\n",
        "\n",
        "\n",
        "\n",
        "\n",
        "\n",
        "- As the model's complexity increases, so do the predictions; for example, neural networks (NN-SGD, NN-MBGD, NN-BGD) may have learned more intricate patterns in the data, resulting in reduced errors as compared to simpler models like as PLA."
      ],
      "metadata": {
        "id": "7Av19VmShKqP"
      }
    },
    {
      "cell_type": "markdown",
      "source": [
        "## HP-2"
      ],
      "metadata": {
        "id": "h9yUdF5kkIU9"
      }
    },
    {
      "cell_type": "code",
      "source": [
        "test_df.shape"
      ],
      "metadata": {
        "colab": {
          "base_uri": "https://localhost:8080/"
        },
        "id": "12hxkb_RkPHL",
        "outputId": "5f1ceffa-5f09-47b5-83f6-e06122065c30"
      },
      "execution_count": 325,
      "outputs": [
        {
          "output_type": "execute_result",
          "data": {
            "text/plain": [
              "(2006, 3)"
            ]
          },
          "metadata": {},
          "execution_count": 325
        }
      ]
    },
    {
      "cell_type": "code",
      "source": [
        "train_df.shape"
      ],
      "metadata": {
        "colab": {
          "base_uri": "https://localhost:8080/"
        },
        "id": "bN-wTgKmk5fi",
        "outputId": "f3b5cb8b-b16a-4d2d-928e-e33819797e01"
      },
      "execution_count": 326,
      "outputs": [
        {
          "output_type": "execute_result",
          "data": {
            "text/plain": [
              "(7290, 3)"
            ]
          },
          "metadata": {},
          "execution_count": 326
        }
      ]
    },
    {
      "cell_type": "markdown",
      "source": [
        "Yes, this is the correct strategy for determining the best digit classification model. Using a dataset of about 2000 samples for testing and 3700 samples for training, and taking into account the range of models employed, the strategy involved modifying a lot of things to optimize to get the best classification model.\n",
        "\n",
        "\n",
        "\n",
        "Here are a few examples of what we did during the course to get the best categorization model.\n",
        "\n",
        "\n",
        "\n",
        "\n",
        "\n",
        "Cross-validation: When fitting a pocket with 3rd order transformed data, we employed cross-validation and discovered that it helps us avoid overfitting. We used the same strategy in other locations as well.\n",
        "\n",
        "\n",
        "\n",
        "\n",
        "\n",
        "We experimented with different learning rates, regularization strengths, and the number of epochs for neural networks. For non-linear models such as polynomial regression, multiple polynomial orders were investigated in order to balance model complexity and performance.\n",
        "\n",
        "Model Complexity vs. Dataset Size: By comparing model complexity to dataset size. Because more complicated models may overfit smaller datasets, a trade-off between model complexity and dataset size must be assessed.\n",
        "\n",
        "\n",
        "\n",
        "The following are a few steps we took to increase the performance of each model.\n",
        "\n",
        "\n",
        "\n",
        "Pocket Algorithm and Perceptron (PLA):\n",
        "\n",
        "- Increasing the number of weight updates improves accuracy to some amount, but it may eventually approach a plateau.\n",
        "\n",
        "\n",
        "\n",
        "\n",
        "- Experimenting with higher-order polynomials aids in the representation of complex relationships. The improvement in performance achieved by changing the data into a third order polynomial demonstrates the importance of non-linear correlations in the data.\n",
        "\n",
        "Neuronal Networks (SGD, MBGD, and BGD):\n",
        "\n",
        "- Modified the learning rate to improve convergence speed and avoid overshooting. This was most likely tweaked while experimenting with various gradient descent algorithms.\n",
        "\n",
        "- Experimenting with different batch sizes for MBGD helped balance computation efficiency and convergence speed.\n",
        "\n",
        "- Experimented with various weight initialization approaches to see how they affected convergence speed and avoided local minima.\n",
        "\n",
        "\n",
        "\n",
        "\n",
        "My final response is that we tried systematic approaches in an orderly manner while enhancing the performance of each model by experimenting with various methods such as increasing iterations, epochs, changing learning or hyperparameters. As a result, our strategy is an excellent way to handle this particular challenge."
      ],
      "metadata": {
        "id": "RTWmCfZJpDOL"
      }
    },
    {
      "cell_type": "code",
      "source": [],
      "metadata": {
        "id": "mMAfdqJl-kLX"
      },
      "execution_count": null,
      "outputs": []
    }
  ]
}